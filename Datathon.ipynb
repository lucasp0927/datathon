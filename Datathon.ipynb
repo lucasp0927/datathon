{
 "cells": [
  {
   "cell_type": "code",
   "execution_count": 1,
   "metadata": {},
   "outputs": [],
   "source": [
    "from datathon import Datathon\n",
    "import matplotlib.pyplot as plt"
   ]
  },
  {
   "cell_type": "code",
   "execution_count": 2,
   "metadata": {},
   "outputs": [
    {
     "name": "stdout",
     "output_type": "stream",
     "text": [
      "data set name:  chemicals\n",
      "number of features:  12\n",
      "open file  ./processed/chemicals.csv\n",
      "data set name:  droughts\n",
      "number of features:  11\n",
      "open file  ./processed/droughts.csv\n",
      "data set name:  earnings\n",
      "number of features:  31\n",
      "open file  ./processed/earnings.csv\n",
      "data set name:  education_attainment\n",
      "number of features:  12\n",
      "open file  ./processed/education_attainment.csv\n",
      "data set name:  industry_occupation\n",
      "number of features:  18\n",
      "open file  ./processed/industry_occupation.csv\n",
      "data set name:  water_usage\n",
      "number of features:  117\n",
      "open file  ./processed/water_usage.csv\n",
      "data sets:  ['chemicals', 'droughts', 'earnings', 'education_attainment', 'industry_occupation', 'water_usage']\n",
      "                               cws_name chemical_species  \\\n",
      "0  CALIFORNIA WATER SERVICE - LIVERMORE          Uranium   \n",
      "1                     CITY OF LIVERMORE          Uranium   \n",
      "2                    CITY OF PLEASANTON          Uranium   \n",
      "3    DUBLIN SAN RAMON SERVICES DISTRICT          Uranium   \n",
      "4    NORRIS CANYON PROPERTY OWNERS ASSN          Uranium   \n",
      "\n",
      "        contaminant_level   county     pws_id  pop_served       state  \\\n",
      "0  Less than or equal MCL  Alameda  CA0110003       57200  California   \n",
      "1  Less than or equal MCL  Alameda  CA0110011       26400  California   \n",
      "2  Less than or equal MCL  Alameda  CA0110008       70600  California   \n",
      "3  Less than or equal MCL  Alameda  CA0110009       72500  California   \n",
      "4  Less than or equal MCL  Alameda  CA0103040         100  California   \n",
      "\n",
      "  unit_measurement  value  year  fips  \n",
      "0     micrograms/L   1.54  2000  6001  \n",
      "1     micrograms/L   1.64  2000  6001  \n",
      "2     micrograms/L   1.64  2000  6001  \n",
      "3     micrograms/L   1.64  2000  6001  \n",
      "4     micrograms/L   4.51  2000  6001  \n",
      "   fips                  county state  none  d0  d1  d2  d3  d4 valid_start\n",
      "0  2013  Aleutians East Borough    AK   100   0   0   0   0   0    12/26/17\n",
      "1  2013  Aleutians East Borough    AK   100   0   0   0   0   0    12/19/17\n",
      "2  2013  Aleutians East Borough    AK   100   0   0   0   0   0    12/12/17\n",
      "3  2013  Aleutians East Borough    AK   100   0   0   0   0   0     12/5/17\n",
      "4  2013  Aleutians East Borough    AK   100   0   0   0   0   0    11/28/17\n",
      "           geo_id  fips                   county  total_med  \\\n",
      "0  0500000US01001  1001  Autauga County, Alabama      31811   \n",
      "1  0500000US01003  1003  Baldwin County, Alabama      30099   \n",
      "2  0500000US01005  1005  Barbour County, Alabama      23504   \n",
      "3  0500000US01007  1007     Bibb County, Alabama      30453   \n",
      "4  0500000US01009  1009   Blount County, Alabama      30739   \n",
      "\n",
      "   total_agri_fish_mine  agri_fish_hunt  mining_quarrying_oilgas_extract  \\\n",
      "0                 31793           31957                          22357.0   \n",
      "1                 33173           27342                          80938.0   \n",
      "2                 16167           14464                          27500.0   \n",
      "3                 45237           46064                          34406.0   \n",
      "4                 26909           25610                          54375.0   \n",
      "\n",
      "   construction  manufacturing  wholesale_trade    ...         mgmt  \\\n",
      "0         30347          44452            38203    ...          NaN   \n",
      "1         30068          41917            43444    ...          NaN   \n",
      "2         20305          27630            18777    ...          NaN   \n",
      "3         30288          36231            43403    ...      67917.0   \n",
      "4         33055          32084            33198    ...          NaN   \n",
      "\n",
      "   admin_sup  total_edu_health_social  edu_serv  health_social  \\\n",
      "0      31250                    30306     34358          26839   \n",
      "1      23910                    34506     37341          30968   \n",
      "2      20179                    22398     42264          20434   \n",
      "3      13636                    25474     36618          21632   \n",
      "4      27553                    31931     36631          29958   \n",
      "\n",
      "   total_arts_ent_acc_food  arts_ent_rec  acc_food_serv  other_ser  pub_admin  \n",
      "0                    11231         10272          11430      26279      46858  \n",
      "1                    14924         17414          14765      21440      38629  \n",
      "2                     6473         10724           5972      16090      30871  \n",
      "3                    16530          5114          20481      30956      33095  \n",
      "4                     7535         10050           7282      25326      34838  \n",
      "\n",
      "[5 rows x 30 columns]\n",
      "   fips state          county  year  less_than_hs  hs_diploma  \\\n",
      "0     0    US   United States  1970      52373312    34158051   \n",
      "1  1000    AL         Alabama  1970       1062306      468269   \n",
      "2  1001    AL  Autauga County  1970          6611        3757   \n",
      "3  1003    AL  Baldwin County  1970         18726        8426   \n",
      "4  1005    AL  Barbour County  1970          8120        2242   \n",
      "\n",
      "   some_college_or_associates  college_bachelors_or_higher  pct_less_than_hs  \\\n",
      "0                    11650730                     11717266              47.7   \n",
      "1                      136287                       141936              58.7   \n",
      "2                         933                          767              54.8   \n",
      "3                        2334                         2038              59.4   \n",
      "4                         581                          861              68.8   \n",
      "\n",
      "   pct_hs_diploma  pct_college_or_associates  \n",
      "0            31.1                       10.6  \n",
      "1            25.9                        7.5  \n",
      "2            31.1                        7.7  \n",
      "3            26.7                        7.4  \n",
      "4            19.0                        4.9  \n",
      "           geo_id  fips                   county  total_employed  agriculture  \\\n",
      "0  0500000US01003  1003  Baldwin County, Alabama         77263.0       1302.0   \n",
      "1  0500000US01015  1015  Calhoun County, Alabama         42768.0        337.0   \n",
      "2  0500000US01043  1043  Cullman County, Alabama             NaN          NaN   \n",
      "3  0500000US01049  1049   DeKalb County, Alabama             NaN          NaN   \n",
      "4  0500000US01051  1051   Elmore County, Alabama             NaN          NaN   \n",
      "\n",
      "   construction  manufacturing  wholesale_trade  retail_trade  \\\n",
      "0        6489.0         6134.0           2131.0        9525.0   \n",
      "1        1371.0         7868.0            750.0        5706.0   \n",
      "2           NaN            NaN              NaN           NaN   \n",
      "3           NaN            NaN              NaN           NaN   \n",
      "4           NaN            NaN              NaN           NaN   \n",
      "\n",
      "   transport_utilities  information  finance_insurance_realestate  \\\n",
      "0               3557.0        940.0                        5893.0   \n",
      "1               1626.0        779.0                        2234.0   \n",
      "2                  NaN          NaN                           NaN   \n",
      "3                  NaN          NaN                           NaN   \n",
      "4                  NaN          NaN                           NaN   \n",
      "\n",
      "   prof_scientific_waste  edu_health  arts_recreation   other  public_admin  \n",
      "0                 9873.0     14753.0           8257.0  3575.0        4834.0  \n",
      "1                 3776.0      8351.0           3799.0  2440.0        3731.0  \n",
      "2                    NaN         NaN              NaN     NaN           NaN  \n",
      "3                    NaN         NaN              NaN     NaN           NaN  \n",
      "4                    NaN         NaN              NaN     NaN           NaN  \n",
      "  state  state_fips          county  county_fips  fips  year  population  \\\n",
      "0    AL           1  Autauga County            1  1001  2010      54.571   \n",
      "1    AL           1  Baldwin County            3  1003  2010     182.265   \n",
      "2    AL           1  Barbour County            5  1005  2010      27.457   \n",
      "3    AL           1     Bibb County            7  1007  2010      22.915   \n",
      "4    AL           1   Blount County            9  1009  2010      57.322   \n",
      "\n",
      "   pub_sup_1  pub_sup_2  pub_sup_3         ...          thermoelectric_29  \\\n",
      "0        NaN        NaN     48.222         ...                       5.84   \n",
      "1        NaN        NaN    153.463         ...                       0.00   \n",
      "2        NaN        NaN     25.555         ...                       0.00   \n",
      "3        NaN        NaN     21.279         ...                       0.00   \n",
      "4        NaN        NaN     44.464         ...                       0.00   \n",
      "\n",
      "   thermoelectric_30  gro_wat_1  gro_wat_2  gro_wat_3  surf_wat_1  surf_wat_2  \\\n",
      "0            6738.26      18.38          0      18.38       37.17           0   \n",
      "1               0.00      57.35          0      57.35        7.01           0   \n",
      "2               0.00       6.71          0       6.71        4.34           0   \n",
      "3               0.00       6.06          0       6.06        1.55           0   \n",
      "4               0.00       4.04          0       4.04       53.04           0   \n",
      "\n",
      "   surf_wat_3  total_withdrawal_1  total_withdrawal_2  \n",
      "0       37.17               55.55                   0  \n",
      "1        7.01               64.36                   0  \n",
      "2        4.34               11.05                   0  \n",
      "3        1.55                7.61                   0  \n",
      "4       53.04               57.08                   0  \n",
      "\n",
      "[5 rows x 116 columns]\n"
     ]
    }
   ],
   "source": [
    "D = Datathon('SoCal Datathon Data Table Heads.csv')"
   ]
  },
  {
   "cell_type": "code",
   "execution_count": 5,
   "metadata": {},
   "outputs": [
    {
     "data": {
      "image/png": "[encoded data removed]",
      "text/plain": [
       "<Figure size 432x288 with 16 Axes>"
      ]
     },
     "metadata": {
      "needs_background": "light"
     },
     "output_type": "display_data"
    }
   ],
   "source": [
    "D.df_array[\"industry_occupation\"].hist()\n",
    "plt.show()"
   ]
  },
  {
   "cell_type": "code",
   "execution_count": 7,
   "metadata": {},
   "outputs": [
    {
     "data": {
      "text/plain": [
       "['chemicals',\n",
       " 'droughts',\n",
       " 'earnings',\n",
       " 'education_attainment',\n",
       " 'industry_occupation',\n",
       " 'water_usage']"
      ]
     },
     "execution_count": 7,
     "metadata": {},
     "output_type": "execute_result"
    }
   ],
   "source": [
    "D.data_set"
   ]
  },
  {
   "cell_type": "code",
   "execution_count": null,
   "metadata": {},
   "outputs": [],
   "source": []
  }
 ],
 "metadata": {
  "kernelspec": {
   "display_name": "Python 3",
   "language": "python",
   "name": "python3"
  },
  "language_info": {
   "codemirror_mode": {
    "name": "ipython",
    "version": 3
   },
   "file_extension": ".py",
   "mimetype": "text/x-python",
   "name": "python",
   "nbconvert_exporter": "python",
   "pygments_lexer": "ipython3",
   "version": "3.7.0"
  }
 },
 "nbformat": 4,
 "nbformat_minor": 2
}
